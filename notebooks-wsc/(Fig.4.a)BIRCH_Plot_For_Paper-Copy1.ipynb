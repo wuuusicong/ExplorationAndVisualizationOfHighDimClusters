{
 "cells": [
  {
   "cell_type": "code",
   "execution_count": 1,
   "metadata": {
    "ExecuteTime": {
     "end_time": "2020-03-14T18:16:13.329324Z",
     "start_time": "2020-03-14T18:16:10.654320Z"
    }
   },
   "outputs": [],
   "source": [
    "import sys\n",
    "sys.path.append('../src/')\n",
    "\n",
    "import pandas as pd\n",
    "import numpy as np\n",
    "import seaborn as sns\n",
    "import matplotlib.pyplot as plt\n",
    "import alphashape\n",
    "import shapely\n",
    "from shapely.geometry import Point, Polygon, MultiPolygon\n",
    "\n",
    "from sklearn.cluster import Birch\n",
    "import itertools\n",
    "from matplotlib import patches\n",
    "from matplotlib.path import Path\n",
    "\n",
    "from scipy.spatial import Voronoi"
   ]
  },
  {
   "cell_type": "code",
   "execution_count": 2,
   "metadata": {
    "ExecuteTime": {
     "end_time": "2020-03-14T18:16:13.340280Z",
     "start_time": "2020-03-14T18:16:13.333295Z"
    }
   },
   "outputs": [],
   "source": [
    "sns.set_style(\"darkgrid\")"
   ]
  },
  {
   "cell_type": "code",
   "execution_count": 3,
   "metadata": {
    "ExecuteTime": {
     "end_time": "2020-03-14T18:16:13.374190Z",
     "start_time": "2020-03-14T18:16:13.344266Z"
    }
   },
   "outputs": [],
   "source": [
    "def anchors_to_contour(points, delta=0.4):\n",
    "    x_plus_arr = points.copy()\n",
    "    x_plus_arr[:, 0] = points[:, 0] + delta\n",
    "    x_minus_arr = points.copy()\n",
    "    x_minus_arr[:, 0] = points[:, 0] - delta\n",
    "    y_plus_arr = points.copy()\n",
    "    y_plus_arr[:, 1] = points[:, 1] + delta\n",
    "    y_minus_arr = points.copy()\n",
    "    y_minus_arr[:, 1] = points[:, 1] - delta\n",
    "\n",
    "    points_discs = np.concatenate([x_plus_arr, x_minus_arr, y_plus_arr, y_minus_arr])\n",
    "    return points_discs\n",
    "\n",
    "def smooth_poly_Douglas_Peucker(poly, douglas_peucker_tolerance):\n",
    "    _poly = Polygon(poly)\n",
    "    _poly = _poly.simplify(douglas_peucker_tolerance, preserve_topology=True)\n",
    "    x, y = _poly.exterior.coords.xy\n",
    "    return list(zip(x, y))\n",
    "\n",
    "def smooth_poly_Chaikins_corner_cutting_iter(poly, iter=1):\n",
    "    new_poly = poly[:]\n",
    "    for i in range(iter):\n",
    "        new_poly = smooth_poly_Chaikins_corner_cutting(new_poly, True)\n",
    "    return new_poly\n",
    "\n",
    "def smooth_poly_Chaikins_corner_cutting(poly, append_first_point):\n",
    "    \"\"\"\n",
    "    poly is list of lists\n",
    "    example: poly1 = [\n",
    "    [3,3],\n",
    "    [4,4],\n",
    "    [5,4],\n",
    "    [5,7],\n",
    "    [6,8],\n",
    "    [7,5],\n",
    "    [6,3],\n",
    "    [5,2],\n",
    "    [4,2],\n",
    "    [3,3]\n",
    "    ]\n",
    "    Based on https://stackoverflow.com/questions/27642237/smoothing-a-2-d-figure\n",
    "    Q(i) = (3/4)P(i) + (1/4)P(i+1)\n",
    "    R(i) = (1/4)P(i) + (3/4)P(i+1)\n",
    "    \"\"\"\n",
    "    new_poly = []\n",
    "    for i in range(len(poly) - 1):\n",
    "        q_i = [0.75 * poly[i][0] + 0.25 * poly[i + 1][0], 0.75 * poly[i][1] + 0.25 * poly[i + 1][1]]\n",
    "        r_i = [0.25 * poly[i][0] + 0.75 * poly[i + 1][0], 0.25 * poly[i][1] + 0.75 * poly[i + 1][1]]\n",
    "        new_poly.extend([q_i, r_i])\n",
    "    # append first point for smoothness\n",
    "    if append_first_point:\n",
    "        new_poly.append(new_poly[0])\n",
    "    return new_poly\n",
    "\n",
    "def get_concave_hull(points, alpha, spline=False, vis=False, douglas_peucker_tolerance=0.6, smooth_iter=13):\n",
    "    alpha_shape = alphashape.alphashape(points.tolist(), alpha)\n",
    "    smooth_shapes = []\n",
    "    if isinstance(alpha_shape, shapely.geometry.polygon.Polygon):\n",
    "        alpha_shape = [alpha_shape]\n",
    "    else:  # Multipolygon\n",
    "        alpha_shape = list(alpha_shape)\n",
    "    for shape in list(alpha_shape):\n",
    "        x, y = shape.exterior.coords.xy\n",
    "        if not spline:\n",
    "            if vis:\n",
    "                smooth_shape = np.array(smooth_poly_Chaikins_corner_cutting_iter(\n",
    "                                    smooth_poly_Douglas_Peucker(list(zip(x, y)), douglas_peucker_tolerance),\n",
    "                    iter=smooth_iter))\n",
    "            else:\n",
    "                smooth_shape = np.array(list(zip(x, y)))\n",
    "        else:\n",
    "            tck, u = splprep([np.array(x), np.array(y)], s=3)\n",
    "            new_points = splev(u, tck)\n",
    "            x, y = new_points[0], new_points[1]\n",
    "            smooth_shape = np.array(list(zip(x,y)))\n",
    "        smooth_shapes.append(smooth_shape)\n",
    "    return smooth_shapes"
   ]
  },
  {
   "cell_type": "code",
   "execution_count": 4,
   "metadata": {
    "ExecuteTime": {
     "end_time": "2020-03-14T18:32:34.644104Z",
     "start_time": "2020-03-14T18:32:34.618177Z"
    }
   },
   "outputs": [],
   "source": [
    "def points_anchors_patches_plot(df, df_centroids, concave_hulls, \n",
    "                                show_inner_blobs=False, show_points=True, show_anchors=False, show_polygons=True):\n",
    "    fig, ax = plt.subplots(figsize=(14, 10))\n",
    "    \n",
    "    # Plot points\n",
    "    if show_points:\n",
    "        sns.scatterplot(data=df, x='x', y='y',\n",
    "                        ax=ax, color='green', s=50, linewidth=1, edgecolor='black')\n",
    "    # Plot anchors\n",
    "    if show_anchors:\n",
    "        sns.scatterplot(data=df_centroids, x='x', y='y',\n",
    "                        ax=ax, color='red', s=250, linewidth=1, edgecolor='black')\n",
    "\n",
    "    # Add patches\n",
    "    if show_polygons:\n",
    "        palette = itertools.cycle(sns.color_palette())\n",
    "        c = next(palette)\n",
    "        for concave_hull in concave_hulls:\n",
    "            # Skip polygons with very small area that will appear as dots\n",
    "            if Polygon(concave_hull).area < 0.001:\n",
    "                self.print_verbose(f'Skipping polygon of label {label} with area {Polygon(concave_hull).area}')\n",
    "                continue\n",
    "            coords = concave_hull\n",
    "            line_cmde = [Path.MOVETO] + [Path.LINETO] * (len(coords) - 2) + [Path.CLOSEPOLY]\n",
    "            path = Path(coords, line_cmde)\n",
    "            patch = patches.PathPatch(path, facecolor=c, alpha=0.2, linewidth=None, edgecolor=None)\n",
    "            ax.add_patch(patch)\n",
    "            patch = patches.PathPatch(path, facecolor=None, linewidth=10, edgecolor=c, fill=False)\n",
    "            ax.add_patch(patch)\n",
    "\n",
    "        if show_inner_blobs:\n",
    "            points = df_centroids[['x', 'y']].values\n",
    "            vor = Voronoi(points)\n",
    "\n",
    "            regions, vertices = voronoi_finite_polygons_2d(vor)\n",
    "\n",
    "            mask = Polygon(concave_hulls[0])\n",
    "            for region in regions:\n",
    "                polygon = vertices[region]\n",
    "                shape = list(polygon.shape)\n",
    "                shape[0] += 1\n",
    "                p = Polygon(np.append(polygon, polygon[0]).reshape(*shape)).intersection(mask)\n",
    "                # intersection can create MultiPolygon\n",
    "                if isinstance(p, shapely.geometry.polygon.Polygon):\n",
    "                    polygons = [p]\n",
    "                else:  # Multipolygon\n",
    "                    polygons = list(p)\n",
    "\n",
    "                for p in list(polygons):\n",
    "                    # skip anchors outside the polygon due to simplification\n",
    "                    if p.exterior is None:\n",
    "                        continue\n",
    "                    x, y = p.exterior.coords.xy\n",
    "                    inner_blob = list(zip(x,y))\n",
    "                    #plot patch\n",
    "                    line_cmde = [Path.MOVETO] + [Path.LINETO] * (len(inner_blob) - 2) + [Path.CLOSEPOLY]\n",
    "                    path = Path(inner_blob, line_cmde)\n",
    "                    patch = patches.PathPatch(path, facecolor=None, linewidth=5, edgecolor=c, fill=False)\n",
    "                    ax.add_patch(patch)\n",
    "        \n",
    "    # remove ticks\n",
    "    ax.xaxis.set_major_locator(plt.NullLocator())\n",
    "    ax.yaxis.set_major_locator(plt.NullLocator())\n",
    "    # remove labels\n",
    "    ax.set_xlabel(\"\")\n",
    "    ax.set_ylabel(\"\")\n",
    "\n",
    "    plt.show()"
   ]
  },
  {
   "cell_type": "code",
   "execution_count": 5,
   "metadata": {
    "ExecuteTime": {
     "end_time": "2020-03-14T18:32:35.093900Z",
     "start_time": "2020-03-14T18:32:35.067972Z"
    }
   },
   "outputs": [],
   "source": [
    "def voronoi_finite_polygons_2d(vor, radius=None):\n",
    "    \"\"\"\n",
    "    Reconstruct infinite voronoi regions in a 2D diagram to finite\n",
    "    regions.\n",
    "\n",
    "    Parameters\n",
    "    ----------\n",
    "    vor : Voronoi\n",
    "        Input diagram\n",
    "    radius : float, optional\n",
    "        Distance to 'points at infinity'.\n",
    "\n",
    "    Returns\n",
    "    -------\n",
    "    regions : list of tuples\n",
    "        Indices of vertices in each revised Voronoi regions.\n",
    "    vertices : list of tuples\n",
    "        Coordinates for revised Voronoi vertices. Same as coordinates\n",
    "        of input vertices, with 'points at infinity' appended to the\n",
    "        end.\n",
    "\n",
    "    \"\"\"\n",
    "\n",
    "    if vor.points.shape[1] != 2:\n",
    "        raise ValueError(\"Requires 2D input\")\n",
    "\n",
    "    new_regions = []\n",
    "    new_vertices = vor.vertices.tolist()\n",
    "\n",
    "    center = vor.points.mean(axis=0)\n",
    "    if radius is None:\n",
    "        radius = vor.points.ptp().max()\n",
    "\n",
    "    # Construct a map containing all ridges for a given point\n",
    "    all_ridges = {}\n",
    "    for (p1, p2), (v1, v2) in zip(vor.ridge_points, vor.ridge_vertices):\n",
    "        all_ridges.setdefault(p1, []).append((p2, v1, v2))\n",
    "        all_ridges.setdefault(p2, []).append((p1, v1, v2))\n",
    "\n",
    "    # Reconstruct infinite regions\n",
    "    for p1, region in enumerate(vor.point_region):\n",
    "        vertices = vor.regions[region]\n",
    "\n",
    "        if all(v >= 0 for v in vertices):\n",
    "            # finite region\n",
    "            new_regions.append(vertices)\n",
    "            continue\n",
    "\n",
    "        # reconstruct a non-finite region\n",
    "        ridges = all_ridges[p1]\n",
    "        new_region = [v for v in vertices if v >= 0]\n",
    "\n",
    "        for p2, v1, v2 in ridges:\n",
    "            if v2 < 0:\n",
    "                v1, v2 = v2, v1\n",
    "            if v1 >= 0:\n",
    "                # finite ridge: already in the region\n",
    "                continue\n",
    "\n",
    "            # Compute the missing endpoint of an infinite ridge\n",
    "\n",
    "            t = vor.points[p2] - vor.points[p1]  # tangent\n",
    "            t /= np.linalg.norm(t)\n",
    "            n = np.array([-t[1], t[0]])  # normal\n",
    "\n",
    "            midpoint = vor.points[[p1, p2]].mean(axis=0)\n",
    "            direction = np.sign(np.dot(midpoint - center, n)) * n\n",
    "            far_point = vor.vertices[v2] + direction * radius\n",
    "\n",
    "            new_region.append(len(new_vertices))\n",
    "            new_vertices.append(far_point.tolist())\n",
    "\n",
    "        # sort region counterclockwise\n",
    "        vs = np.asarray([new_vertices[v] for v in new_region])\n",
    "        c = vs.mean(axis=0)\n",
    "        angles = np.arctan2(vs[:, 1] - c[1], vs[:, 0] - c[0])\n",
    "        new_region = np.array(new_region)[np.argsort(angles)]\n",
    "\n",
    "        # finish\n",
    "        new_regions.append(new_region.tolist())\n",
    "\n",
    "    return new_regions, np.asarray(new_vertices)"
   ]
  },
  {
   "cell_type": "code",
   "execution_count": 6,
   "metadata": {
    "ExecuteTime": {
     "end_time": "2020-03-14T18:32:35.290385Z",
     "start_time": "2020-03-14T18:32:35.274418Z"
    }
   },
   "outputs": [],
   "source": [
    "xy = np.array([\n",
    "    [1,6],\n",
    "    [1.5,6.5],\n",
    "    [1.5,7],\n",
    "    [2,5.5],\n",
    "    [2,7],\n",
    "    [2.5,7.5],\n",
    "    [2.6,8.1],\n",
    "    [3,8],\n",
    "    [3.5,7.7],\n",
    "    [4,8],\n",
    "    [4,5.6],\n",
    "    [4.5,4],\n",
    "    [5,3],\n",
    "    [5,10],\n",
    "    [5.7,9],\n",
    "    [6,8],\n",
    "    [7,6],\n",
    "    [7,9],\n",
    "    [7.4,5],\n",
    "    [7.5,3.9],\n",
    "    [8,4.6],\n",
    "    [8,5.2],\n",
    "    [8.1,6.9],\n",
    "    [8.9,5.9],\n",
    "    [9,1.8],\n",
    "    [9,4.9],\n",
    "    [9.5,1],\n",
    "    [9.6,1.6],\n",
    "    [10.1,1],\n",
    "    [10,1.4],\n",
    "    [10.5,0.5],\n",
    "    [10.52,1.55],\n",
    "    [10.54,2],\n",
    "    [11,3.9],\n",
    "    [10.5,6.5],\n",
    "    [11,6],\n",
    "    [11,7],\n",
    "    [11,8],\n",
    "    [12.2,7.3],\n",
    "    [13,6],\n",
    "    [12,1.1],\n",
    "    [12.1,1.9],\n",
    "    [12.5,1.2],\n",
    "    [13,1.3],\n",
    "    [13.1,1.5],\n",
    "])"
   ]
  },
  {
   "cell_type": "code",
   "execution_count": 7,
   "metadata": {
    "ExecuteTime": {
     "end_time": "2020-03-14T18:32:35.377143Z",
     "start_time": "2020-03-14T18:32:35.370164Z"
    }
   },
   "outputs": [],
   "source": [
    "df = pd.DataFrame(xy, columns = ['x', 'y'])"
   ]
  },
  {
   "cell_type": "code",
   "execution_count": 8,
   "metadata": {
    "ExecuteTime": {
     "end_time": "2020-03-14T18:32:35.893514Z",
     "start_time": "2020-03-14T18:32:35.886523Z"
    }
   },
   "outputs": [],
   "source": [
    "points_discs = anchors_to_contour(np.array(xy))"
   ]
  },
  {
   "cell_type": "code",
   "execution_count": 9,
   "metadata": {
    "ExecuteTime": {
     "end_time": "2020-03-14T18:32:36.238213Z",
     "start_time": "2020-03-14T18:32:36.112516Z"
    }
   },
   "outputs": [],
   "source": [
    "concave_hulls = get_concave_hull(points_discs, alpha=0.6, spline=False, vis=True, douglas_peucker_tolerance=0, smooth_iter=5)"
   ]
  },
  {
   "cell_type": "code",
   "execution_count": 10,
   "metadata": {
    "ExecuteTime": {
     "end_time": "2020-03-14T18:32:36.256127Z",
     "start_time": "2020-03-14T18:32:36.243162Z"
    }
   },
   "outputs": [],
   "source": [
    "birch = Birch(threshold=2, branching_factor=2, n_clusters=None)\n",
    "df['sub-cluster'] = birch.fit_predict(df.values)"
   ]
  },
  {
   "cell_type": "code",
   "execution_count": 15,
   "metadata": {
    "ExecuteTime": {
     "end_time": "2020-03-14T18:32:36.545435Z",
     "start_time": "2020-03-14T18:32:36.537456Z"
    }
   },
   "outputs": [
    {
     "data": {
      "text/html": [
       "<div>\n",
       "<style scoped>\n",
       "    .dataframe tbody tr th:only-of-type {\n",
       "        vertical-align: middle;\n",
       "    }\n",
       "\n",
       "    .dataframe tbody tr th {\n",
       "        vertical-align: top;\n",
       "    }\n",
       "\n",
       "    .dataframe thead th {\n",
       "        text-align: right;\n",
       "    }\n",
       "</style>\n",
       "<table border=\"1\" class=\"dataframe\">\n",
       "  <thead>\n",
       "    <tr style=\"text-align: right;\">\n",
       "      <th></th>\n",
       "      <th>x</th>\n",
       "      <th>y</th>\n",
       "    </tr>\n",
       "  </thead>\n",
       "  <tbody>\n",
       "    <tr>\n",
       "      <th>0</th>\n",
       "      <td>2.853846</td>\n",
       "      <td>6.453846</td>\n",
       "    </tr>\n",
       "    <tr>\n",
       "      <th>1</th>\n",
       "      <td>6.350000</td>\n",
       "      <td>7.833333</td>\n",
       "    </tr>\n",
       "    <tr>\n",
       "      <th>2</th>\n",
       "      <td>8.500000</td>\n",
       "      <td>4.275000</td>\n",
       "    </tr>\n",
       "    <tr>\n",
       "      <th>3</th>\n",
       "      <td>11.385714</td>\n",
       "      <td>6.385714</td>\n",
       "    </tr>\n",
       "    <tr>\n",
       "      <th>4</th>\n",
       "      <td>11.269091</td>\n",
       "      <td>1.368182</td>\n",
       "    </tr>\n",
       "  </tbody>\n",
       "</table>\n",
       "</div>"
      ],
      "text/plain": [
       "           x         y\n",
       "0   2.853846  6.453846\n",
       "1   6.350000  7.833333\n",
       "2   8.500000  4.275000\n",
       "3  11.385714  6.385714\n",
       "4  11.269091  1.368182"
      ]
     },
     "execution_count": 15,
     "metadata": {},
     "output_type": "execute_result"
    }
   ],
   "source": [
    "df_centroids = pd.DataFrame(birch.subcluster_centers_, columns=['x', 'y'])\n",
    "df_centroids"
   ]
  },
  {
   "cell_type": "code",
   "execution_count": 16,
   "metadata": {
    "ExecuteTime": {
     "end_time": "2020-03-14T18:32:36.963386Z",
     "start_time": "2020-03-14T18:32:36.805809Z"
    }
   },
   "outputs": [
    {
     "data": {
      "image/png": "[encoded data removed]",
      "text/plain": [
       "<Figure size 1008x720 with 1 Axes>"
      ]
     },
     "metadata": {},
     "output_type": "display_data"
    }
   ],
   "source": [
    "points_anchors_patches_plot(df, df_centroids, concave_hulls,\n",
    "                            show_inner_blobs=False, show_points=True, show_anchors=False, show_polygons=True)"
   ]
  },
  {
   "cell_type": "code",
   "execution_count": 13,
   "metadata": {
    "ExecuteTime": {
     "end_time": "2020-03-14T18:32:37.663562Z",
     "start_time": "2020-03-14T18:32:37.468086Z"
    }
   },
   "outputs": [
    {
     "ename": "IndexError",
     "evalue": "list index out of range",
     "output_type": "error",
     "traceback": [
      "\u001b[1;31m---------------------------------------------------------------------------\u001b[0m",
      "\u001b[1;31mIndexError\u001b[0m                                Traceback (most recent call last)",
      "\u001b[1;32m<ipython-input-13-540f5ec00b53>\u001b[0m in \u001b[0;36m<module>\u001b[1;34m\u001b[0m\n\u001b[0;32m      1\u001b[0m points_anchors_patches_plot(df, df_centroids, concave_hulls,\n\u001b[1;32m----> 2\u001b[1;33m                             show_inner_blobs=True, show_points=True, show_anchors=True, show_polygons=True)\n\u001b[0m",
      "\u001b[1;32m<ipython-input-4-00497fe3cdb8>\u001b[0m in \u001b[0;36mpoints_anchors_patches_plot\u001b[1;34m(df, df_centroids, concave_hulls, show_inner_blobs, show_points, show_anchors, show_polygons)\u001b[0m\n\u001b[0;32m     35\u001b[0m             \u001b[0mregions\u001b[0m\u001b[1;33m,\u001b[0m \u001b[0mvertices\u001b[0m \u001b[1;33m=\u001b[0m \u001b[0mvoronoi_finite_polygons_2d\u001b[0m\u001b[1;33m(\u001b[0m\u001b[0mvor\u001b[0m\u001b[1;33m)\u001b[0m\u001b[1;33m\u001b[0m\u001b[1;33m\u001b[0m\u001b[0m\n\u001b[0;32m     36\u001b[0m \u001b[1;33m\u001b[0m\u001b[0m\n\u001b[1;32m---> 37\u001b[1;33m             \u001b[0mmask\u001b[0m \u001b[1;33m=\u001b[0m \u001b[0mPolygon\u001b[0m\u001b[1;33m(\u001b[0m\u001b[0mconcave_hulls\u001b[0m\u001b[1;33m[\u001b[0m\u001b[1;36m0\u001b[0m\u001b[1;33m]\u001b[0m\u001b[1;33m)\u001b[0m\u001b[1;33m\u001b[0m\u001b[1;33m\u001b[0m\u001b[0m\n\u001b[0m\u001b[0;32m     38\u001b[0m             \u001b[1;32mfor\u001b[0m \u001b[0mregion\u001b[0m \u001b[1;32min\u001b[0m \u001b[0mregions\u001b[0m\u001b[1;33m:\u001b[0m\u001b[1;33m\u001b[0m\u001b[1;33m\u001b[0m\u001b[0m\n\u001b[0;32m     39\u001b[0m                 \u001b[0mpolygon\u001b[0m \u001b[1;33m=\u001b[0m \u001b[0mvertices\u001b[0m\u001b[1;33m[\u001b[0m\u001b[0mregion\u001b[0m\u001b[1;33m]\u001b[0m\u001b[1;33m\u001b[0m\u001b[1;33m\u001b[0m\u001b[0m\n",
      "\u001b[1;31mIndexError\u001b[0m: list index out of range"
     ]
    },
    {
     "data": {
      "image/png": "[encoded data removed]",
      "text/plain": [
       "<Figure size 1008x720 with 1 Axes>"
      ]
     },
     "metadata": {},
     "output_type": "display_data"
    }
   ],
   "source": [
    "points_anchors_patches_plot(df, df_centroids, concave_hulls,\n",
    "                            show_inner_blobs=True, show_points=True, show_anchors=True, show_polygons=True)"
   ]
  },
  {
   "cell_type": "code",
   "execution_count": null,
   "metadata": {
    "ExecuteTime": {
     "end_time": "2020-03-14T18:13:30.899090Z",
     "start_time": "2020-03-14T18:13:30.872162Z"
    }
   },
   "outputs": [],
   "source": []
  },
  {
   "cell_type": "code",
   "execution_count": null,
   "metadata": {
    "ExecuteTime": {
     "end_time": "2020-03-14T18:06:25.777344Z",
     "start_time": "2020-03-14T18:06:25.752403Z"
    }
   },
   "outputs": [],
   "source": []
  }
 ],
 "metadata": {
  "kernelspec": {
   "display_name": "Python 3",
   "language": "python",
   "name": "python3"
  },
  "language_info": {
   "codemirror_mode": {
    "name": "ipython",
    "version": 3
   },
   "file_extension": ".py",
   "mimetype": "text/x-python",
   "name": "python",
   "nbconvert_exporter": "python",
   "pygments_lexer": "ipython3",
   "version": "3.6.10"
  },
  "toc": {
   "base_numbering": 1,
   "nav_menu": {},
   "number_sections": true,
   "sideBar": true,
   "skip_h1_title": false,
   "title_cell": "Table of Contents",
   "title_sidebar": "Contents",
   "toc_cell": false,
   "toc_position": {},
   "toc_section_display": true,
   "toc_window_display": false
  }
 },
 "nbformat": 4,
 "nbformat_minor": 2
}
