{
 "cells": [
  {
   "cell_type": "markdown",
   "metadata": {},
   "source": [
    "# Import"
   ]
  },
  {
   "cell_type": "code",
   "execution_count": 1,
   "metadata": {
    "ExecuteTime": {
     "end_time": "2020-04-04T11:52:11.619405Z",
     "start_time": "2020-04-04T11:52:04.249339Z"
    }
   },
   "outputs": [],
   "source": [
    "import sys\n",
    "sys.path.append('../src/')\n",
    "\n",
    "import pandas as pd\n",
    "import numpy as np\n",
    "import seaborn as sns\n",
    "import matplotlib.pyplot as plt\n",
    "import pickle\n",
    "import joblib\n",
    "from sklearn.metrics import pairwise_distances\n",
    "from PIL import Image\n",
    "from sklearn.metrics import pairwise_distances\n",
    "from sklearn.cluster import Birch\n",
    "\n",
    "from DataSetFactory import DataSetFactory\n",
    "from ClusterPlot import ClusterPlot"
   ]
  },
  {
   "cell_type": "code",
   "execution_count": 2,
   "metadata": {
    "ExecuteTime": {
     "end_time": "2020-04-04T11:52:11.629466Z",
     "start_time": "2020-04-04T11:52:11.622486Z"
    }
   },
   "outputs": [],
   "source": [
    "RANDOM_STATE = 42"
   ]
  },
  {
   "cell_type": "code",
   "execution_count": 3,
   "metadata": {
    "ExecuteTime": {
     "end_time": "2020-04-04T11:52:11.844885Z",
     "start_time": "2020-04-04T11:52:11.635452Z"
    }
   },
   "outputs": [
    {
     "ename": "FileNotFoundError",
     "evalue": "[Errno 2] No such file or directory: '../data/ImageNetCropped/vgg_animals_embeddings.pickle'",
     "output_type": "error",
     "traceback": [
      "\u001b[1;31m---------------------------------------------------------------------------\u001b[0m",
      "\u001b[1;31mFileNotFoundError\u001b[0m                         Traceback (most recent call last)",
      "\u001b[1;32m<ipython-input-3-f6494480127c>\u001b[0m in \u001b[0;36m<module>\u001b[1;34m\u001b[0m\n\u001b[1;32m----> 1\u001b[1;33m \u001b[0mds\u001b[0m \u001b[1;33m=\u001b[0m \u001b[0mDataSetFactory\u001b[0m\u001b[1;33m.\u001b[0m\u001b[0mget_dataset\u001b[0m\u001b[1;33m(\u001b[0m\u001b[1;34m'vgg_features_imagenet'\u001b[0m\u001b[1;33m,\u001b[0m \u001b[0mRANDOM_STATE\u001b[0m \u001b[1;33m,\u001b[0m\u001b[0msample\u001b[0m\u001b[1;33m=\u001b[0m\u001b[1;36m0.15\u001b[0m\u001b[1;33m,\u001b[0m \u001b[0mis_subset\u001b[0m\u001b[1;33m=\u001b[0m\u001b[1;33m[\u001b[0m\u001b[1;36m0\u001b[0m\u001b[1;33m,\u001b[0m \u001b[1;36m2\u001b[0m\u001b[1;33m,\u001b[0m \u001b[1;36m3\u001b[0m\u001b[1;33m,\u001b[0m \u001b[1;36m8\u001b[0m\u001b[1;33m]\u001b[0m\u001b[1;33m)\u001b[0m\u001b[1;33m\u001b[0m\u001b[1;33m\u001b[0m\u001b[0m\n\u001b[0m",
      "\u001b[1;32mD:\\Vis_Project\\Cluster Plot - WSC\\ExplorationAndVisualizationOfHighDimClusters\\src\\DataSetFactory.py\u001b[0m in \u001b[0;36mget_dataset\u001b[1;34m(dataset_name, random_state, sample, is_subset)\u001b[0m\n\u001b[0;32m    629\u001b[0m             \u001b[1;32mreturn\u001b[0m \u001b[0mDataSetFactory\u001b[0m\u001b[1;33m.\u001b[0m\u001b[0mfashion_mnist\u001b[0m\u001b[1;33m(\u001b[0m\u001b[0mdataset_name\u001b[0m\u001b[1;33m,\u001b[0m \u001b[0mrandom_state\u001b[0m\u001b[1;33m,\u001b[0m \u001b[0msample\u001b[0m\u001b[1;33m,\u001b[0m \u001b[0mis_subset\u001b[0m\u001b[1;33m)\u001b[0m\u001b[1;33m\u001b[0m\u001b[1;33m\u001b[0m\u001b[0m\n\u001b[0;32m    630\u001b[0m         \u001b[1;32mif\u001b[0m \u001b[0mdataset_name\u001b[0m \u001b[1;33m==\u001b[0m \u001b[1;34m'vgg_features_imagenet'\u001b[0m\u001b[1;33m:\u001b[0m\u001b[1;33m\u001b[0m\u001b[1;33m\u001b[0m\u001b[0m\n\u001b[1;32m--> 631\u001b[1;33m             \u001b[1;32mreturn\u001b[0m \u001b[0mDataSetFactory\u001b[0m\u001b[1;33m.\u001b[0m\u001b[0mget_deep_features_imagenet\u001b[0m\u001b[1;33m(\u001b[0m\u001b[1;34m'vgg'\u001b[0m\u001b[1;33m,\u001b[0m \u001b[0mrandom_state\u001b[0m\u001b[1;33m,\u001b[0m \u001b[0msample\u001b[0m\u001b[1;33m,\u001b[0m \u001b[0mis_subset\u001b[0m\u001b[1;33m)\u001b[0m\u001b[1;33m\u001b[0m\u001b[1;33m\u001b[0m\u001b[0m\n\u001b[0m\u001b[0;32m    632\u001b[0m         \u001b[1;32mif\u001b[0m \u001b[0mdataset_name\u001b[0m \u001b[1;33m==\u001b[0m \u001b[1;34m'vgg_features_cats'\u001b[0m\u001b[1;33m:\u001b[0m\u001b[1;33m\u001b[0m\u001b[1;33m\u001b[0m\u001b[0m\n\u001b[0;32m    633\u001b[0m             \u001b[1;32mreturn\u001b[0m \u001b[0mDataSetFactory\u001b[0m\u001b[1;33m.\u001b[0m\u001b[0mget_deep_features_imagenet_cats\u001b[0m\u001b[1;33m(\u001b[0m\u001b[1;34m'vgg'\u001b[0m\u001b[1;33m,\u001b[0m \u001b[0mrandom_state\u001b[0m\u001b[1;33m,\u001b[0m \u001b[0msample\u001b[0m\u001b[1;33m,\u001b[0m \u001b[0mis_subset\u001b[0m\u001b[1;33m)\u001b[0m\u001b[1;33m\u001b[0m\u001b[1;33m\u001b[0m\u001b[0m\n",
      "\u001b[1;32mD:\\Vis_Project\\Cluster Plot - WSC\\ExplorationAndVisualizationOfHighDimClusters\\src\\DataSetFactory.py\u001b[0m in \u001b[0;36mget_deep_features_imagenet\u001b[1;34m(net, random_state, sample, is_subset)\u001b[0m\n\u001b[0;32m    455\u001b[0m     \u001b[1;33m@\u001b[0m\u001b[0mstaticmethod\u001b[0m\u001b[1;33m\u001b[0m\u001b[1;33m\u001b[0m\u001b[0m\n\u001b[0;32m    456\u001b[0m     \u001b[1;32mdef\u001b[0m \u001b[0mget_deep_features_imagenet\u001b[0m\u001b[1;33m(\u001b[0m\u001b[0mnet\u001b[0m\u001b[1;33m,\u001b[0m \u001b[0mrandom_state\u001b[0m\u001b[1;33m,\u001b[0m \u001b[0msample\u001b[0m\u001b[1;33m,\u001b[0m \u001b[0mis_subset\u001b[0m\u001b[1;33m)\u001b[0m\u001b[1;33m:\u001b[0m\u001b[1;33m\u001b[0m\u001b[1;33m\u001b[0m\u001b[0m\n\u001b[1;32m--> 457\u001b[1;33m         \u001b[0mX\u001b[0m \u001b[1;33m=\u001b[0m \u001b[0mjoblib\u001b[0m\u001b[1;33m.\u001b[0m\u001b[0mload\u001b[0m\u001b[1;33m(\u001b[0m\u001b[1;34mf'../data/ImageNetCropped/{net}_animals_embeddings.pickle'\u001b[0m\u001b[1;33m)\u001b[0m\u001b[1;33m\u001b[0m\u001b[1;33m\u001b[0m\u001b[0m\n\u001b[0m\u001b[0;32m    458\u001b[0m         \u001b[0my\u001b[0m \u001b[1;33m=\u001b[0m \u001b[0mjoblib\u001b[0m\u001b[1;33m.\u001b[0m\u001b[0mload\u001b[0m\u001b[1;33m(\u001b[0m\u001b[1;34mf'../data/ImageNetCropped/{net}_animals_labels.pickle'\u001b[0m\u001b[1;33m)\u001b[0m\u001b[1;33m\u001b[0m\u001b[1;33m\u001b[0m\u001b[0m\n\u001b[0;32m    459\u001b[0m         \u001b[0mdf\u001b[0m \u001b[1;33m=\u001b[0m \u001b[0mpd\u001b[0m\u001b[1;33m.\u001b[0m\u001b[0mDataFrame\u001b[0m\u001b[1;33m(\u001b[0m\u001b[0mX\u001b[0m\u001b[1;33m)\u001b[0m\u001b[1;33m\u001b[0m\u001b[1;33m\u001b[0m\u001b[0m\n",
      "\u001b[1;32mD:\\Download\\anaconda\\envs\\dataScience_copy\\lib\\site-packages\\joblib\\numpy_pickle.py\u001b[0m in \u001b[0;36mload\u001b[1;34m(filename, mmap_mode)\u001b[0m\n\u001b[0;32m    577\u001b[0m             \u001b[0mobj\u001b[0m \u001b[1;33m=\u001b[0m \u001b[0m_unpickle\u001b[0m\u001b[1;33m(\u001b[0m\u001b[0mfobj\u001b[0m\u001b[1;33m)\u001b[0m\u001b[1;33m\u001b[0m\u001b[1;33m\u001b[0m\u001b[0m\n\u001b[0;32m    578\u001b[0m     \u001b[1;32melse\u001b[0m\u001b[1;33m:\u001b[0m\u001b[1;33m\u001b[0m\u001b[1;33m\u001b[0m\u001b[0m\n\u001b[1;32m--> 579\u001b[1;33m         \u001b[1;32mwith\u001b[0m \u001b[0mopen\u001b[0m\u001b[1;33m(\u001b[0m\u001b[0mfilename\u001b[0m\u001b[1;33m,\u001b[0m \u001b[1;34m'rb'\u001b[0m\u001b[1;33m)\u001b[0m \u001b[1;32mas\u001b[0m \u001b[0mf\u001b[0m\u001b[1;33m:\u001b[0m\u001b[1;33m\u001b[0m\u001b[1;33m\u001b[0m\u001b[0m\n\u001b[0m\u001b[0;32m    580\u001b[0m             \u001b[1;32mwith\u001b[0m \u001b[0m_read_fileobject\u001b[0m\u001b[1;33m(\u001b[0m\u001b[0mf\u001b[0m\u001b[1;33m,\u001b[0m \u001b[0mfilename\u001b[0m\u001b[1;33m,\u001b[0m \u001b[0mmmap_mode\u001b[0m\u001b[1;33m)\u001b[0m \u001b[1;32mas\u001b[0m \u001b[0mfobj\u001b[0m\u001b[1;33m:\u001b[0m\u001b[1;33m\u001b[0m\u001b[1;33m\u001b[0m\u001b[0m\n\u001b[0;32m    581\u001b[0m                 \u001b[1;32mif\u001b[0m \u001b[0misinstance\u001b[0m\u001b[1;33m(\u001b[0m\u001b[0mfobj\u001b[0m\u001b[1;33m,\u001b[0m \u001b[0mstr\u001b[0m\u001b[1;33m)\u001b[0m\u001b[1;33m:\u001b[0m\u001b[1;33m\u001b[0m\u001b[1;33m\u001b[0m\u001b[0m\n",
      "\u001b[1;31mFileNotFoundError\u001b[0m: [Errno 2] No such file or directory: '../data/ImageNetCropped/vgg_animals_embeddings.pickle'"
     ]
    }
   ],
   "source": [
    "ds = DataSetFactory.get_dataset('vgg_features_imagenet', RANDOM_STATE ,sample=0.15, is_subset=[0, 2, 3, 8])"
   ]
  },
  {
   "cell_type": "code",
   "execution_count": null,
   "metadata": {
    "ExecuteTime": {
     "end_time": "2020-04-04T11:52:11.864832Z",
     "start_time": "2020-04-04T11:52:11.853863Z"
    }
   },
   "outputs": [],
   "source": [
    "ds.class_to_label"
   ]
  },
  {
   "cell_type": "code",
   "execution_count": null,
   "metadata": {
    "ExecuteTime": {
     "end_time": "2020-04-04T11:52:11.907719Z",
     "start_time": "2020-04-04T11:52:11.869820Z"
    }
   },
   "outputs": [],
   "source": [
    "X = ds.df[ds.feature_cols].values\n",
    "y = ds.df[ds.label_col].values"
   ]
  },
  {
   "cell_type": "markdown",
   "metadata": {},
   "source": [
    "# Blobs"
   ]
  },
  {
   "cell_type": "code",
   "execution_count": null,
   "metadata": {
    "ExecuteTime": {
     "end_time": "2020-04-04T11:52:11.938633Z",
     "start_time": "2020-04-04T11:52:11.911707Z"
    }
   },
   "outputs": [],
   "source": [
    "cp = ClusterPlot(learning_rate=0.4, \n",
    "#             n_iter=23, \n",
    "#             batch_size=1,\n",
    "            n_iter=21, \n",
    "            batch_size=1,\n",
    "            anchors_method='birch',\n",
    "            birch_threshold=35,\n",
    "            umap_n_neighbors=15,\n",
    "            dataset='VGGAnimals',\n",
    "            class_to_label=ds.class_to_label,\n",
    "            show_fig=True,\n",
    "            save_fig=True,\n",
    "            k=20,\n",
    "            random_state=RANDOM_STATE,\n",
    "            save_fig_every=20,\n",
    "            magnitude_step=True,\n",
    "            top_greedy=5,\n",
    "            show_anchors=False,\n",
    "            supervised=False,\n",
    "#             alpha=[1,0,1,1],\n",
    "#             douglas_peucker_tolerance=1,\n",
    "            alpha=0,\n",
    "            douglas_peucker_tolerance=0.3,\n",
    "            smooth_iter=3,\n",
    "            show_inner_blobs=True,\n",
    "            random_points_method='voronoi',\n",
    "            orig_images=ds.orig_images,\n",
    "            annotate_images=False,\n",
    "            stop_criteria=0,\n",
    "            mask_sparse_subcluster=None,\n",
    "            only_inter_relations=False,\n",
    "            mask_relation_in_same_label=True)\n",
    "print(cp)\n"
   ]
  },
  {
   "cell_type": "code",
   "execution_count": null,
   "metadata": {
    "ExecuteTime": {
     "end_time": "2020-04-04T11:52:50.913645Z",
     "start_time": "2020-04-04T11:52:11.944618Z"
    },
    "scrolled": true
   },
   "outputs": [],
   "source": [
    "low_dim = cp.fit_transform(X, y)"
   ]
  },
  {
   "cell_type": "code",
   "execution_count": null,
   "metadata": {
    "ExecuteTime": {
     "end_time": "2020-04-04T11:52:58.320687Z",
     "start_time": "2020-04-04T11:52:50.918634Z"
    },
    "scrolled": false
   },
   "outputs": [],
   "source": [
    "cp.show_anchors=True\n",
    "cp.anchors_plot_sns_separate(1, True)"
   ]
  },
  {
   "cell_type": "code",
   "execution_count": null,
   "metadata": {},
   "outputs": [],
   "source": []
  }
 ],
 "metadata": {
  "kernelspec": {
   "display_name": "Python 3",
   "language": "python",
   "name": "python3"
  },
  "language_info": {
   "codemirror_mode": {
    "name": "ipython",
    "version": 3
   },
   "file_extension": ".py",
   "mimetype": "text/x-python",
   "name": "python",
   "nbconvert_exporter": "python",
   "pygments_lexer": "ipython3",
   "version": "3.6.10"
  },
  "toc": {
   "base_numbering": 1,
   "nav_menu": {},
   "number_sections": true,
   "sideBar": true,
   "skip_h1_title": false,
   "title_cell": "Table of Contents",
   "title_sidebar": "Contents",
   "toc_cell": false,
   "toc_position": {},
   "toc_section_display": true,
   "toc_window_display": true
  }
 },
 "nbformat": 4,
 "nbformat_minor": 2
}
