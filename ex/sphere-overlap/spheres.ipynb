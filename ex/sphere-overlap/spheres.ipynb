{
 "cells": [
  {
   "cell_type": "code",
   "execution_count": 1,
   "metadata": {},
   "outputs": [],
   "source": [
    "'''\n",
    "Trying out Tadasets library for generating topological synthetic datasets:\n",
    "Here an overlay of a torus, sphere and swiss roll\n",
    "'''\n",
    "\n",
    "import numpy as np\n",
    "# import tadasets\n",
    "import matplotlib\n",
    "import matplotlib.pyplot as plt\n",
    "from custom_shapes import dsphere\n",
    "\n",
    "from IPython import embed\n",
    "\n",
    "\n",
    "def create_sphere_dataset(n_samples=500, d=100, n_spheres=11, r=5, plot=False, seed=42):\n",
    "    np.random.seed(seed)\n",
    "\n",
    "    # it seemed that rescaling the shift variance by sqrt of d lets big sphere stay around the inner spheres\n",
    "    variance = 10 / np.sqrt(d)\n",
    "\n",
    "    shift_matrix = np.random.normal(0, variance, [n_spheres, d + 1])\n",
    "\n",
    "    spheres = []\n",
    "    n_datapoints = 0\n",
    "    for i in np.arange(n_spheres - 1):\n",
    "        sphere = dsphere(n=n_samples, d=d, r=r)\n",
    "        spheres.append(sphere + shift_matrix[i, :])\n",
    "        n_datapoints += n_samples\n",
    "\n",
    "    # Additional big surrounding sphere:\n",
    "    n_samples_big = 10 * n_samples  # int(n_samples/2)\n",
    "    big = dsphere(n=n_samples_big, d=d, r=r * 5)\n",
    "    spheres.append(big)\n",
    "    n_datapoints += n_samples_big\n",
    "\n",
    "    if plot:\n",
    "        fig = plt.figure()\n",
    "        ax = fig.add_subplot(111, projection=\"3d\")\n",
    "        colors = matplotlib.cm.rainbow(np.linspace(0, 1, n_spheres))\n",
    "        for data, color in zip(spheres, colors):\n",
    "            ax.scatter(data[:, 0], data[:, 1], data[:, 2], c=[color])\n",
    "        plt.show()\n",
    "\n",
    "    # Create Dataset:\n",
    "    dataset = np.concatenate(spheres, axis=0)\n",
    "\n",
    "    labels = np.zeros(n_datapoints)\n",
    "    label_index = 0\n",
    "    for index, data in enumerate(spheres):\n",
    "        n_sphere_samples = data.shape[0]\n",
    "        labels[label_index:label_index + n_sphere_samples] = index\n",
    "        label_index += n_sphere_samples\n",
    "\n",
    "    return dataset, labels "
   ]
  },
  {
   "cell_type": "code",
   "execution_count": null,
   "metadata": {},
   "outputs": [],
   "source": []
  }
 ],
 "metadata": {
  "kernelspec": {
   "display_name": "ClusterPlot",
   "language": "python",
   "name": "datascience_copy"
  },
  "language_info": {
   "codemirror_mode": {
    "name": "ipython",
    "version": 3
   },
   "file_extension": ".py",
   "mimetype": "text/x-python",
   "name": "python",
   "nbconvert_exporter": "python",
   "pygments_lexer": "ipython3",
   "version": "3.6.10"
  }
 },
 "nbformat": 4,
 "nbformat_minor": 4
}
